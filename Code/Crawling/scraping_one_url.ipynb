{
  "nbformat": 4,
  "nbformat_minor": 0,
  "metadata": {
    "kernelspec": {
      "display_name": "Python 3",
      "language": "python",
      "name": "python3"
    },
    "language_info": {
      "codemirror_mode": {
        "name": "ipython",
        "version": 3
      },
      "file_extension": ".py",
      "mimetype": "text/x-python",
      "name": "python",
      "nbconvert_exporter": "python",
      "pygments_lexer": "ipython3",
      "version": "3.7.4"
    },
    "colab": {
      "name": "scraping_one_url.ipynb",
      "provenance": []
    }
  },
  "cells": [
    {
      "cell_type": "markdown",
      "metadata": {
        "id": "2SxbozC_G9g-"
      },
      "source": [
        "### selenium 설치하는 방법 <br>\n",
        "1. 크롬 설정(우측 상단 세 개 점 클릭)에 들어가서 Chrome 정보를 클릭 후 업데이트 실시. (만약 업데이트 도중 에러 뜨면 컴퓨터 껐다 켜면 다시 잘 되더라..카더라..) <br>\n",
        "2. 다시 시작 클릭해서 업데이트 완료<br>\n",
        "3. 크롬 버전 기억해놓기. (나의 경우 86.0.4240.198 였음)  <br>\n",
        "**************\n",
        "4. https://www.selenium.dev/ 접속 <br>\n",
        "5. Selenium WebDriver 맨 왼쪽에 보일 것. 다운로드 버튼 클릭 <br>\n",
        "6. 다운로드 페이지 이동 후 아래로 스크롤 해서 쭉 내려가서 +Browsers 버튼 클릭 <br>\n",
        "7. 크롬 항목에 있는 documentation 연두색으로 줄쳐져 있는 그 버튼 클릭<br>\n",
        "8. All versions available in Downloads 보이면 여기에서 내 크롬 버전에 맞는 드라이버 다운로드 하기 <br>\n",
        "9. chromedriver_win32.zip 다운받으면 됨 (윈도우10의 경우) <br>\n",
        "10. zip 파일 열어서 내가 원하는 데 압축 풀기<br>\n",
        "11. 경로 복사해두기<br>\n",
        "********\n",
        "12. 명령프롬프트 열고 pip install selenium 입력해서 설치 <br>\n",
        "13. 주피터 노트북에서는 ! pip install selenium 으로 설치\n"
      ]
    },
    {
      "cell_type": "code",
      "metadata": {
        "id": "uyU4c779G9hF",
        "outputId": "19f0a306-6eea-42c0-830c-94c3beb5681b"
      },
      "source": [
        "! pip install selenium"
      ],
      "execution_count": null,
      "outputs": [
        {
          "name": "stdout",
          "output_type": "stream",
          "text": [
            "Requirement already satisfied: selenium in c:\\users\\jeong\\anaconda3\\lib\\site-packages (3.141.0)\n",
            "Requirement already satisfied: urllib3 in c:\\users\\jeong\\anaconda3\\lib\\site-packages (from selenium) (1.24.2)\n"
          ]
        }
      ]
    },
    {
      "cell_type": "code",
      "metadata": {
        "id": "vjqN3EsuG9hG"
      },
      "source": [
        "from selenium import webdriver as wd\n",
        "from bs4 import BeautifulSoup\n",
        "import time"
      ],
      "execution_count": null,
      "outputs": []
    },
    {
      "cell_type": "code",
      "metadata": {
        "id": "VA0QcNF2G9hH",
        "outputId": "01699786-7300-4fb7-82df-848d04f9f987"
      },
      "source": [
        "#path 에 경로 복사 해둔거 집어넣기\n",
        "driver = wd.Chrome(executable_path=r\"C:\\Users\\jeong\\Desktop\\scraping\\chromedriver_win32\\chromedriver.exe\")\n",
        "\n",
        "#내가 스크래핑 하고 싶은 유투브 주소로 변경\n",
        "url='https://www.youtube.com/watch?v=lOOpxNuc6Fo'\n",
        "driver.get(url)\n",
        "\n",
        "last_page_height = driver.execute_script(\"return document.documentElement.scrollHeight\")\n",
        "\n",
        "while True:\n",
        "    driver.execute_script(\"window.scrollTo(0, document.documentElement.scrollHeight);\")\n",
        "    time.sleep(3.0)\n",
        "    new_page_height = driver.execute_script(\"return document.documentElement.scrollHeight\")\n",
        "    \n",
        "    if new_page_height == last_page_height:\n",
        "        break\n",
        "    last_page_height = new_page_height\n",
        "    \n",
        "html_source = driver.page_source\n",
        "\n",
        "driver.close()\n",
        "\n",
        "soup = BeautifulSoup(html_source, 'lxml')\n",
        "\n",
        "user_IDs = soup.select('div#header-author > a > span')\n",
        "comments = soup.select('yt-formatted-string#content-text')\n",
        "\n",
        "str_user_IDs = []\n",
        "str_comments = []\n",
        "\n",
        "for i in range(len(user_IDs)):\n",
        "    str_tmp = str(user_IDs[i].text)\n",
        "    \n",
        "    str_tmp = str_tmp.replace('\\n', '')\n",
        "    str_tmp = str_tmp.replace('\\t', '')\n",
        "    str_tmp = str_tmp.replace('                    ', '')\n",
        "    str_user_IDs.append(str_tmp)\n",
        "    \n",
        "    str_tmp = str(comments[i].text)\n",
        "    str_tmp = str_tmp.replace('\\n', '')\n",
        "    str_tmp = str_tmp.replace('\\t', '')\n",
        "    str_tmp = str_tmp.replace('                      ', '')\n",
        "    str_comments.append(str_tmp)\n",
        "    \n",
        "for i in range(len(str_user_IDs)):\n",
        "    print(str_user_IDs[i], str_comments[i])"
      ],
      "execution_count": null,
      "outputs": [
        {
          "name": "stdout",
          "output_type": "stream",
          "text": [
            "            성장테일INFP           이 분 책도 정말 잘쓰심.. 내용에 깊이도 있으신데 읽기 쉽게 쓰시고.. 읽다가 공감가고 위로받은 문장이 한두개가 아님..  롤모델이심.. ㅠㅜ\n",
            "            Pelocorto_Sol           ㅌㅇ에서 올리는 여성 리더분들의 이야기가 정말 도움이 많이 돼요.\n",
            "            근강이최고야           고등학생이 뭣도모르고 보고있지만 EO채널덕분에  살아가야할 방향을 잘 잡고 있는거 같아요\n",
            "            June Park           정말 이런분 밑에서 일해보고 싶네요...\n",
            "            예비부자 - 부자습관 기르기           제현주 대표님 너무 팬입니다..ㅜㅜ 일하는 마음 책에서도 굉장히 많은 위로와 인사이트를 얻었습니다.\"창업자의 why 가 중요하다\" 창업자라면 당연히 방향성을 갖고 긍정적 변화를 위한 진정성이 있어야 한다고 생각하는데,그런 생각 없이 스타트업을 시작하는 분들도 계시나요??스타트업 하는 분들을 많이 보지 못해서 궁금해서 남겨봅니다.\n",
            "            Yeongju Lee           ㅌㅇ에서 임팩트 투자자를 만나줬으면 좋겠다고 생각하던 찰나에 올라왔네요!!! 감사합니다❣️ 저는 환경공학도인데 기량을 쌓아 나중에 꼭 임팩트투자 일하고싶어요\n",
            "            문순신           저도 대학 졸업 후에 세상에 꼭 필요한 서비스를 제공하는 사업을 하고 싶은데 비전이 뚜렷하고 가치있는 일이라면 누군가에게 투자받을 수도 있겠구나 라는 걸 알았습니다!! 한마디 한마디가 아주 유익했습니다!!!\n",
            "            차유진           임팩트 산업이야말로 우리가 살아가는 생태계 속에서 인간의 역할을 다 하기 위한 최적의 수단이 아닌가 싶습니다. 이런 인식이 점차 커지고 있다는 사실에 안심이 되고 괜히 가슴이 찡하네요.. 좋은 콘텐츠 감사합니다❣️\n",
            "            Kevin Min           발자취가 어마어마하신 분이네요... 투자자 본인부터 굉장히 임팩트있으신...\n",
            "            리버풀빅클럽           오디오가 뭔가 빨리감기 되어 있는 것 같은 이펙트가 드네요?\n",
            "            d           도입부 말씀이 인상적이네요. 영상 잘 봤습니다.\n",
            "            유하은           많은 걸 배웠습니다. 제현주 대표님의 말씀을 통해 저도 레이어 하나를 얻었습니다. 제 안테나가 퍼지는 영역이 넓어졌어요, 감사합니다 :)\n",
            "            Vanlife Korea 수향           사회적가치까지 함께 나눌 수 있는 투자자들과 기업가들이 많아지면 너무 좋겠어요! 영상 감사합니다 🌷\n",
            "            김정웅           썸네일 윤도현인줄..........\n",
            "            오준형           존경합니다. 앞으로의 길도 잘되시기를!\n",
            "            joowon yi           금융문맹도 사회적문제인데 투자받을수있을까요\n",
            "            김한량           영상 덕분에 임팩트 투자에 대해 더 쉽게 이해할 수 있었습니다👍👍감각적인 편집도 돋보이구요👏👏 좋은 내용 매번 감사합니다: )\n",
            "            해이나, 가성비폭팔 짠순이 직장인           배울점이 많네요. 좋은 영상과 좋은 회사, 좋은 리더를 소개해주셔서 감사합니다!\n",
            "            TaeheenotTae           항상 잘 보고 있습니다 ㅎㅎ  요즘 사무용 가구에 관심을 갖고 있는데 파트라라고 하는 브랜드의 대표님도 인터뷰가 될까요?\n",
            "            엑셀능력자           짧은 영상이지만 배울점이 많다는걸 느꼈습니다 잠시 기차에서 내려서 생각해보는 시간이 필요하군요\n"
          ]
        }
      ]
    },
    {
      "cell_type": "code",
      "metadata": {
        "id": "oTNJounKG9hI",
        "outputId": "ab06b048-fed1-4a25-f074-6e21fc8865b6"
      },
      "source": [
        "import pandas as pd\n",
        "pd_data = {\"Comment\":str_comments}\n",
        "youtube_pd = pd.DataFrame(pd_data)\n",
        "youtube_pd"
      ],
      "execution_count": null,
      "outputs": [
        {
          "data": {
            "text/html": [
              "<div>\n",
              "<style scoped>\n",
              "    .dataframe tbody tr th:only-of-type {\n",
              "        vertical-align: middle;\n",
              "    }\n",
              "\n",
              "    .dataframe tbody tr th {\n",
              "        vertical-align: top;\n",
              "    }\n",
              "\n",
              "    .dataframe thead th {\n",
              "        text-align: right;\n",
              "    }\n",
              "</style>\n",
              "<table border=\"1\" class=\"dataframe\">\n",
              "  <thead>\n",
              "    <tr style=\"text-align: right;\">\n",
              "      <th></th>\n",
              "      <th>Comment</th>\n",
              "    </tr>\n",
              "  </thead>\n",
              "  <tbody>\n",
              "    <tr>\n",
              "      <td>0</td>\n",
              "      <td>이 분 책도 정말 잘쓰심.. 내용에 깊이도 있으신데 읽기 쉽게 쓰시고.. 읽다가 공...</td>\n",
              "    </tr>\n",
              "    <tr>\n",
              "      <td>1</td>\n",
              "      <td>ㅌㅇ에서 올리는 여성 리더분들의 이야기가 정말 도움이 많이 돼요.</td>\n",
              "    </tr>\n",
              "    <tr>\n",
              "      <td>2</td>\n",
              "      <td>고등학생이 뭣도모르고 보고있지만 EO채널덕분에  살아가야할 방향을 잘 잡고 있는거 같아요</td>\n",
              "    </tr>\n",
              "    <tr>\n",
              "      <td>3</td>\n",
              "      <td>정말 이런분 밑에서 일해보고 싶네요...</td>\n",
              "    </tr>\n",
              "    <tr>\n",
              "      <td>4</td>\n",
              "      <td>제현주 대표님 너무 팬입니다..ㅜㅜ 일하는 마음 책에서도 굉장히 많은 위로와 인사이...</td>\n",
              "    </tr>\n",
              "    <tr>\n",
              "      <td>5</td>\n",
              "      <td>ㅌㅇ에서 임팩트 투자자를 만나줬으면 좋겠다고 생각하던 찰나에 올라왔네요!!! 감사합...</td>\n",
              "    </tr>\n",
              "    <tr>\n",
              "      <td>6</td>\n",
              "      <td>저도 대학 졸업 후에 세상에 꼭 필요한 서비스를 제공하는 사업을 하고 싶은데 비전이...</td>\n",
              "    </tr>\n",
              "    <tr>\n",
              "      <td>7</td>\n",
              "      <td>임팩트 산업이야말로 우리가 살아가는 생태계 속에서 인간의 역할을 다 하기 위한 최적...</td>\n",
              "    </tr>\n",
              "    <tr>\n",
              "      <td>8</td>\n",
              "      <td>발자취가 어마어마하신 분이네요... 투자자 본인부터 굉장히 임팩트있으신...</td>\n",
              "    </tr>\n",
              "    <tr>\n",
              "      <td>9</td>\n",
              "      <td>오디오가 뭔가 빨리감기 되어 있는 것 같은 이펙트가 드네요?</td>\n",
              "    </tr>\n",
              "    <tr>\n",
              "      <td>10</td>\n",
              "      <td>도입부 말씀이 인상적이네요. 영상 잘 봤습니다.</td>\n",
              "    </tr>\n",
              "    <tr>\n",
              "      <td>11</td>\n",
              "      <td>많은 걸 배웠습니다. 제현주 대표님의 말씀을 통해 저도 레이어 하나를 얻었습니다. ...</td>\n",
              "    </tr>\n",
              "    <tr>\n",
              "      <td>12</td>\n",
              "      <td>사회적가치까지 함께 나눌 수 있는 투자자들과 기업가들이 많아지면 너무 좋겠어요! 영...</td>\n",
              "    </tr>\n",
              "    <tr>\n",
              "      <td>13</td>\n",
              "      <td>썸네일 윤도현인줄..........</td>\n",
              "    </tr>\n",
              "    <tr>\n",
              "      <td>14</td>\n",
              "      <td>존경합니다. 앞으로의 길도 잘되시기를!</td>\n",
              "    </tr>\n",
              "    <tr>\n",
              "      <td>15</td>\n",
              "      <td>금융문맹도 사회적문제인데 투자받을수있을까요</td>\n",
              "    </tr>\n",
              "    <tr>\n",
              "      <td>16</td>\n",
              "      <td>영상 덕분에 임팩트 투자에 대해 더 쉽게 이해할 수 있었습니다👍👍감각적인 편집도 돋...</td>\n",
              "    </tr>\n",
              "    <tr>\n",
              "      <td>17</td>\n",
              "      <td>배울점이 많네요. 좋은 영상과 좋은 회사, 좋은 리더를 소개해주셔서 감사합니다!</td>\n",
              "    </tr>\n",
              "    <tr>\n",
              "      <td>18</td>\n",
              "      <td>항상 잘 보고 있습니다 ㅎㅎ  요즘 사무용 가구에 관심을 갖고 있는데 파트라라고 하...</td>\n",
              "    </tr>\n",
              "    <tr>\n",
              "      <td>19</td>\n",
              "      <td>짧은 영상이지만 배울점이 많다는걸 느꼈습니다 잠시 기차에서 내려서 생각해보는 시간이...</td>\n",
              "    </tr>\n",
              "  </tbody>\n",
              "</table>\n",
              "</div>"
            ],
            "text/plain": [
              "                                              Comment\n",
              "0   이 분 책도 정말 잘쓰심.. 내용에 깊이도 있으신데 읽기 쉽게 쓰시고.. 읽다가 공...\n",
              "1                ㅌㅇ에서 올리는 여성 리더분들의 이야기가 정말 도움이 많이 돼요.\n",
              "2   고등학생이 뭣도모르고 보고있지만 EO채널덕분에  살아가야할 방향을 잘 잡고 있는거 같아요\n",
              "3                              정말 이런분 밑에서 일해보고 싶네요...\n",
              "4   제현주 대표님 너무 팬입니다..ㅜㅜ 일하는 마음 책에서도 굉장히 많은 위로와 인사이...\n",
              "5   ㅌㅇ에서 임팩트 투자자를 만나줬으면 좋겠다고 생각하던 찰나에 올라왔네요!!! 감사합...\n",
              "6   저도 대학 졸업 후에 세상에 꼭 필요한 서비스를 제공하는 사업을 하고 싶은데 비전이...\n",
              "7   임팩트 산업이야말로 우리가 살아가는 생태계 속에서 인간의 역할을 다 하기 위한 최적...\n",
              "8          발자취가 어마어마하신 분이네요... 투자자 본인부터 굉장히 임팩트있으신...\n",
              "9                   오디오가 뭔가 빨리감기 되어 있는 것 같은 이펙트가 드네요?\n",
              "10                         도입부 말씀이 인상적이네요. 영상 잘 봤습니다.\n",
              "11  많은 걸 배웠습니다. 제현주 대표님의 말씀을 통해 저도 레이어 하나를 얻었습니다. ...\n",
              "12  사회적가치까지 함께 나눌 수 있는 투자자들과 기업가들이 많아지면 너무 좋겠어요! 영...\n",
              "13                                썸네일 윤도현인줄..........\n",
              "14                              존경합니다. 앞으로의 길도 잘되시기를!\n",
              "15                            금융문맹도 사회적문제인데 투자받을수있을까요\n",
              "16  영상 덕분에 임팩트 투자에 대해 더 쉽게 이해할 수 있었습니다👍👍감각적인 편집도 돋...\n",
              "17       배울점이 많네요. 좋은 영상과 좋은 회사, 좋은 리더를 소개해주셔서 감사합니다!\n",
              "18  항상 잘 보고 있습니다 ㅎㅎ  요즘 사무용 가구에 관심을 갖고 있는데 파트라라고 하...\n",
              "19  짧은 영상이지만 배울점이 많다는걸 느꼈습니다 잠시 기차에서 내려서 생각해보는 시간이..."
            ]
          },
          "execution_count": 18,
          "metadata": {},
          "output_type": "execute_result"
        }
      ]
    },
    {
      "cell_type": "code",
      "metadata": {
        "id": "885HUP2xG9hI"
      },
      "source": [
        "youtube_pd.to_excel(r'C:\\Users\\jeong\\Desktop\\scraping\\one_url.xlsx', sheet_name='One_Url')\n",
        "    \n",
        "#csv 파일로 저장하고 싶으면\n",
        "# my_dataframes[i].to_csv(r'저장경로\\파일이름.csv')"
      ],
      "execution_count": null,
      "outputs": []
    }
  ]
}