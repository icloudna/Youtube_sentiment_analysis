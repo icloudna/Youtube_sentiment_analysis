{
  "nbformat": 4,
  "nbformat_minor": 0,
  "metadata": {
    "kernelspec": {
      "display_name": "Python 3",
      "language": "python",
      "name": "python3"
    },
    "language_info": {
      "codemirror_mode": {
        "name": "ipython",
        "version": 3
      },
      "file_extension": ".py",
      "mimetype": "text/x-python",
      "name": "python",
      "nbconvert_exporter": "python",
      "pygments_lexer": "ipython3",
      "version": "3.7.4"
    },
    "colab": {
      "name": "scraping_several_url.ipynb",
      "provenance": []
    }
  },
  "cells": [
    {
      "cell_type": "code",
      "metadata": {
        "id": "hOU6qieb9eZA"
      },
      "source": [
        "# install chromium, its driver, and selenium\n",
        "!apt-get update\n",
        "!apt install chromium-chromedriver\n",
        "!cp /usr/lib/chromium-browser/chromedriver /usr/bin\n",
        "!pip install selenium\n",
        "\n",
        "# set options to be headless, ..\n",
        "from selenium import webdriver\n",
        "options = webdriver.ChromeOptions()\n",
        "options.add_argument('--headless')\n",
        "options.add_argument('--no-sandbox')\n",
        "options.add_argument('--disable-dev-shm-usage')\n",
        "\n",
        "from bs4 import BeautifulSoup\n",
        "import time"
      ],
      "execution_count": null,
      "outputs": []
    },
    {
      "cell_type": "markdown",
      "metadata": {
        "id": "PdHhVW1G9bmF"
      },
      "source": [
        "## Crawler"
      ]
    },
    {
      "cell_type": "code",
      "metadata": {
        "id": "LgbY_yFO9bmG"
      },
      "source": [
        "import pandas as pd"
      ],
      "execution_count": null,
      "outputs": []
    },
    {
      "cell_type": "code",
      "metadata": {
        "id": "XaTeR9E09bmK",
        "colab": {
          "base_uri": "https://localhost:8080/"
        },
        "outputId": "90f3baa2-cc72-4a3a-c149-fe1c28af14fb"
      },
      "source": [
        "#원하는 유투브 url 넣어주기\n",
        "urls = [] \n",
        "html_sources = []\n",
        "\n",
        "#urls list에 있는 url의 html 소스들을 for loop 이용해 가져오기\n",
        "for i in range (,):\n",
        "    \n",
        "     \n",
        "    driver = webdriver.Chrome('chromedriver',options=options)\n",
        "    driver.get(urls[i])\n",
        "\n",
        "    last_page_height = driver.execute_script(\"return document.documentElement.scrollHeight\")\n",
        "\n",
        "    while True:\n",
        "        driver.execute_script(\"window.scrollTo(0, document.documentElement.scrollHeight);\")\n",
        "        time.sleep(3.0)\n",
        "        new_page_height = driver.execute_script(\"return document.documentElement.scrollHeight\")\n",
        "    \n",
        "        if new_page_height == last_page_height:\n",
        "            break\n",
        "        last_page_height = new_page_height\n",
        "    \n",
        "    html_source = driver.page_source\n",
        "    html_sources.append(html_source)\n",
        "    print(\"DONE\") #html_source 하나씩 가져와서 더해질 때마다 DONE 출력\n",
        "    \n",
        "    driver.quit()"
      ],
      "execution_count": null,
      "outputs": [
        {
          "output_type": "stream",
          "text": [
            "DONE\n"
          ],
          "name": "stdout"
        }
      ]
    },
    {
      "cell_type": "code",
      "metadata": {
        "id": "-g9Pl8wj9bmQ",
        "colab": {
          "base_uri": "https://localhost:8080/"
        },
        "outputId": "e995d1bf-3de4-443c-9af2-ad4e1ea9c9b9"
      },
      "source": [
        "def get_user_IDs_and_comments(html_sources):\n",
        "    my_dataframes = []\n",
        "    for html in html_sources:\n",
        "        \n",
        "        soup = BeautifulSoup(html, 'lxml')\n",
        "        \n",
        "        #youtube_user_IDs = soup.select('div#header-author > a > span')\n",
        "\n",
        "        youtube_comments = soup.select('yt-formatted-string#content-text')\n",
        "        \n",
        "        #str_youtube_userIDs = []\n",
        "        str_youtube_comments = []\n",
        "\n",
        "        for i in range(len(youtube_comments)):\n",
        "            #str_tmp = str(youtube_user_IDs[i].text)\n",
        "     \n",
        "            #str_tmp = str_tmp.replace('\\n', '')\n",
        "            #str_tmp = str_tmp.replace('\\t', '')\n",
        "            #str_tmp = str_tmp.replace('                ','')\n",
        "            #str_youtube_userIDs.append(str_tmp)\n",
        "\n",
        "            str_tmp = str(youtube_comments[i].text) \n",
        "            str_tmp = str_tmp.replace('\\n', '')\n",
        "            str_tmp = str_tmp.replace('\\t', '')\n",
        "            str_tmp = str_tmp.replace('               ', '')\n",
        "\n",
        "            str_youtube_comments.append(str_tmp)\n",
        "            \n",
        "        pd_data = {\"Comment\":str_youtube_comments}\n",
        "\n",
        "        youtube_pd = pd.DataFrame(pd_data)\n",
        "\n",
        "        my_dataframes.append(youtube_pd)\n",
        "        \n",
        "    return my_dataframes\n",
        "\n",
        "my_dataframes = get_user_IDs_and_comments(html_sources)\n",
        "my_dataframes"
      ],
      "execution_count": null,
      "outputs": [
        {
          "output_type": "execute_result",
          "data": {
            "text/plain": [
              "[                                                Comment\n",
              " 0     참  저 런것들이 강의한다고  하니불교가 썩지현각 스님  더  비판해주세요함국불교를...\n",
              " 1         우리나라 종교인들은 대부분 사업가 맞음성전건축을 향해  전력질주~  달려!~~~~\n",
              " 2                       적당히 좀 하지  연예인병 걸려 오버하다 한방에 가는구나\n",
              " 3               대한민국에서  신팔이들과   똘중이  돈벌이하기  세계에서  제일이다!\n",
              " 4     달콤한 말 듣는다고 현실이 달라지진 않죠..이런 종류(멈추면 비로소 보이는...)의...\n",
              " ...                                                 ...\n",
              " 1042        스님은 돈 좀 벌면 안되는건가요??스님은 무소유만 하면서 살라는 법 있나요??\n",
              " 1043  불교의 수행자가 꼭 무소유 하라법은없다 부처님도 공자님도 부자가 되지말라고안했다 참...\n",
              " 1044  솔직히 그래도 기성 종교인들 보단 훨씬 깨끗한거 같은데대형교회나 사찰 목사 승려들이...\n",
              " 1045  극좌가 정권잡으니 이제 소유하면 죄인취급하는 시대가 도래했다 정말 그분말대로 '한 ...\n",
              " 1046     좌파 대깨진영에서 많이 활용했잖아 이제와서 ?대깨 좌파들 테세전환?자기편을 버리다니\n",
              " \n",
              " [1047 rows x 1 columns]]"
            ]
          },
          "metadata": {
            "tags": []
          },
          "execution_count": 15
        }
      ]
    },
    {
      "cell_type": "code",
      "metadata": {
        "id": "bJ9jJ3IMYJLK",
        "colab": {
          "base_uri": "https://localhost:8080/"
        },
        "outputId": "743cbe48-dfeb-4841-91cc-00007a009246"
      },
      "source": [
        "len(my_dataframes)"
      ],
      "execution_count": null,
      "outputs": [
        {
          "output_type": "execute_result",
          "data": {
            "text/plain": [
              "3"
            ]
          },
          "metadata": {
            "tags": []
          },
          "execution_count": 9
        }
      ]
    },
    {
      "cell_type": "code",
      "metadata": {
        "id": "H2DQLEiI9bmT"
      },
      "source": [
        "for i in range(len(my_dataframes)):\n",
        "    my_dataframes[i].to_csv('urls08.csv')\n",
        "    \n",
        "#csv 파일로 저장하고 싶으면\n",
        "# my_dataframes[i].to_csv(r'저장경로\\파일이름.csv')"
      ],
      "execution_count": null,
      "outputs": []
    }
  ]
}